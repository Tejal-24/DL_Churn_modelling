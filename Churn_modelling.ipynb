{
  "nbformat": 4,
  "nbformat_minor": 0,
  "metadata": {
    "colab": {
      "name": "Churn_modelling.ipynb",
      "provenance": [],
      "mount_file_id": "1LEBzMKb-Qb3mBk92cGvmwefjkGC9bM9f",
      "authorship_tag": "ABX9TyPILwJ9GEBomSHEbWq1tcEq"
    },
    "kernelspec": {
      "name": "python3",
      "display_name": "Python 3"
    },
    "language_info": {
      "name": "python"
    }
  },
  "cells": [
    {
      "cell_type": "code",
      "metadata": {
        "id": "smPetUbHLUc4"
      },
      "source": [
        "import numpy as np\n",
        "import pandas as pd\n",
        "import matplotlib.pyplot as plt"
      ],
      "execution_count": 1,
      "outputs": []
    },
    {
      "cell_type": "code",
      "metadata": {
        "colab": {
          "base_uri": "https://localhost:8080/",
          "height": 223
        },
        "id": "46LaT9XXLenE",
        "outputId": "7a6ffc62-e7f4-4c90-b7d7-c52622c86f0b"
      },
      "source": [
        "data = pd.read_csv(\"/content/drive/MyDrive/Datascience/Churn_Modelling.csv\")\n",
        "data.head()"
      ],
      "execution_count": 2,
      "outputs": [
        {
          "output_type": "execute_result",
          "data": {
            "text/html": [
              "<div>\n",
              "<style scoped>\n",
              "    .dataframe tbody tr th:only-of-type {\n",
              "        vertical-align: middle;\n",
              "    }\n",
              "\n",
              "    .dataframe tbody tr th {\n",
              "        vertical-align: top;\n",
              "    }\n",
              "\n",
              "    .dataframe thead th {\n",
              "        text-align: right;\n",
              "    }\n",
              "</style>\n",
              "<table border=\"1\" class=\"dataframe\">\n",
              "  <thead>\n",
              "    <tr style=\"text-align: right;\">\n",
              "      <th></th>\n",
              "      <th>RowNumber</th>\n",
              "      <th>CustomerId</th>\n",
              "      <th>Surname</th>\n",
              "      <th>CreditScore</th>\n",
              "      <th>Geography</th>\n",
              "      <th>Gender</th>\n",
              "      <th>Age</th>\n",
              "      <th>Tenure</th>\n",
              "      <th>Balance</th>\n",
              "      <th>NumOfProducts</th>\n",
              "      <th>HasCrCard</th>\n",
              "      <th>IsActiveMember</th>\n",
              "      <th>EstimatedSalary</th>\n",
              "      <th>Exited</th>\n",
              "    </tr>\n",
              "  </thead>\n",
              "  <tbody>\n",
              "    <tr>\n",
              "      <th>0</th>\n",
              "      <td>1</td>\n",
              "      <td>15634602</td>\n",
              "      <td>Hargrave</td>\n",
              "      <td>619</td>\n",
              "      <td>France</td>\n",
              "      <td>Female</td>\n",
              "      <td>42</td>\n",
              "      <td>2</td>\n",
              "      <td>0.00</td>\n",
              "      <td>1</td>\n",
              "      <td>1</td>\n",
              "      <td>1</td>\n",
              "      <td>101348.88</td>\n",
              "      <td>1</td>\n",
              "    </tr>\n",
              "    <tr>\n",
              "      <th>1</th>\n",
              "      <td>2</td>\n",
              "      <td>15647311</td>\n",
              "      <td>Hill</td>\n",
              "      <td>608</td>\n",
              "      <td>Spain</td>\n",
              "      <td>Female</td>\n",
              "      <td>41</td>\n",
              "      <td>1</td>\n",
              "      <td>83807.86</td>\n",
              "      <td>1</td>\n",
              "      <td>0</td>\n",
              "      <td>1</td>\n",
              "      <td>112542.58</td>\n",
              "      <td>0</td>\n",
              "    </tr>\n",
              "    <tr>\n",
              "      <th>2</th>\n",
              "      <td>3</td>\n",
              "      <td>15619304</td>\n",
              "      <td>Onio</td>\n",
              "      <td>502</td>\n",
              "      <td>France</td>\n",
              "      <td>Female</td>\n",
              "      <td>42</td>\n",
              "      <td>8</td>\n",
              "      <td>159660.80</td>\n",
              "      <td>3</td>\n",
              "      <td>1</td>\n",
              "      <td>0</td>\n",
              "      <td>113931.57</td>\n",
              "      <td>1</td>\n",
              "    </tr>\n",
              "    <tr>\n",
              "      <th>3</th>\n",
              "      <td>4</td>\n",
              "      <td>15701354</td>\n",
              "      <td>Boni</td>\n",
              "      <td>699</td>\n",
              "      <td>France</td>\n",
              "      <td>Female</td>\n",
              "      <td>39</td>\n",
              "      <td>1</td>\n",
              "      <td>0.00</td>\n",
              "      <td>2</td>\n",
              "      <td>0</td>\n",
              "      <td>0</td>\n",
              "      <td>93826.63</td>\n",
              "      <td>0</td>\n",
              "    </tr>\n",
              "    <tr>\n",
              "      <th>4</th>\n",
              "      <td>5</td>\n",
              "      <td>15737888</td>\n",
              "      <td>Mitchell</td>\n",
              "      <td>850</td>\n",
              "      <td>Spain</td>\n",
              "      <td>Female</td>\n",
              "      <td>43</td>\n",
              "      <td>2</td>\n",
              "      <td>125510.82</td>\n",
              "      <td>1</td>\n",
              "      <td>1</td>\n",
              "      <td>1</td>\n",
              "      <td>79084.10</td>\n",
              "      <td>0</td>\n",
              "    </tr>\n",
              "  </tbody>\n",
              "</table>\n",
              "</div>"
            ],
            "text/plain": [
              "   RowNumber  CustomerId   Surname  ...  IsActiveMember EstimatedSalary Exited\n",
              "0          1    15634602  Hargrave  ...               1       101348.88      1\n",
              "1          2    15647311      Hill  ...               1       112542.58      0\n",
              "2          3    15619304      Onio  ...               0       113931.57      1\n",
              "3          4    15701354      Boni  ...               0        93826.63      0\n",
              "4          5    15737888  Mitchell  ...               1        79084.10      0\n",
              "\n",
              "[5 rows x 14 columns]"
            ]
          },
          "metadata": {
            "tags": []
          },
          "execution_count": 2
        }
      ]
    },
    {
      "cell_type": "code",
      "metadata": {
        "id": "fofQkUsSLtzZ"
      },
      "source": [
        "X = data.iloc[:,3:13]\n",
        "y = data.iloc[:,13]"
      ],
      "execution_count": 3,
      "outputs": []
    },
    {
      "cell_type": "code",
      "metadata": {
        "colab": {
          "base_uri": "https://localhost:8080/"
        },
        "id": "tIU37-SMLwDA",
        "outputId": "a9e2b850-dc71-4efb-9a30-875853947819"
      },
      "source": [
        "data.isnull().any()"
      ],
      "execution_count": 4,
      "outputs": [
        {
          "output_type": "execute_result",
          "data": {
            "text/plain": [
              "RowNumber          False\n",
              "CustomerId         False\n",
              "Surname            False\n",
              "CreditScore        False\n",
              "Geography          False\n",
              "Gender             False\n",
              "Age                False\n",
              "Tenure             False\n",
              "Balance            False\n",
              "NumOfProducts      False\n",
              "HasCrCard          False\n",
              "IsActiveMember     False\n",
              "EstimatedSalary    False\n",
              "Exited             False\n",
              "dtype: bool"
            ]
          },
          "metadata": {
            "tags": []
          },
          "execution_count": 4
        }
      ]
    },
    {
      "cell_type": "code",
      "metadata": {
        "id": "wCgi-szRLyTe"
      },
      "source": [
        "geography = pd.get_dummies(X['Geography'], drop_first = True)\n",
        "gender = pd.get_dummies(X['Gender'], drop_first = True)"
      ],
      "execution_count": 5,
      "outputs": []
    },
    {
      "cell_type": "code",
      "metadata": {
        "id": "0iTzzq4rL1aF"
      },
      "source": [
        "X = pd.concat([X, geography, gender], axis = 1)"
      ],
      "execution_count": 6,
      "outputs": []
    },
    {
      "cell_type": "code",
      "metadata": {
        "id": "CZhRCe_ML3Yg"
      },
      "source": [
        "X = X.drop(['Geography', 'Gender'], axis =1)"
      ],
      "execution_count": 7,
      "outputs": []
    },
    {
      "cell_type": "code",
      "metadata": {
        "colab": {
          "base_uri": "https://localhost:8080/",
          "height": 223
        },
        "id": "0Gp_A4bCL5ml",
        "outputId": "1ebdda72-1110-4d57-94c8-aabcfed150d8"
      },
      "source": [
        "X.head()"
      ],
      "execution_count": 8,
      "outputs": [
        {
          "output_type": "execute_result",
          "data": {
            "text/html": [
              "<div>\n",
              "<style scoped>\n",
              "    .dataframe tbody tr th:only-of-type {\n",
              "        vertical-align: middle;\n",
              "    }\n",
              "\n",
              "    .dataframe tbody tr th {\n",
              "        vertical-align: top;\n",
              "    }\n",
              "\n",
              "    .dataframe thead th {\n",
              "        text-align: right;\n",
              "    }\n",
              "</style>\n",
              "<table border=\"1\" class=\"dataframe\">\n",
              "  <thead>\n",
              "    <tr style=\"text-align: right;\">\n",
              "      <th></th>\n",
              "      <th>CreditScore</th>\n",
              "      <th>Age</th>\n",
              "      <th>Tenure</th>\n",
              "      <th>Balance</th>\n",
              "      <th>NumOfProducts</th>\n",
              "      <th>HasCrCard</th>\n",
              "      <th>IsActiveMember</th>\n",
              "      <th>EstimatedSalary</th>\n",
              "      <th>Germany</th>\n",
              "      <th>Spain</th>\n",
              "      <th>Male</th>\n",
              "    </tr>\n",
              "  </thead>\n",
              "  <tbody>\n",
              "    <tr>\n",
              "      <th>0</th>\n",
              "      <td>619</td>\n",
              "      <td>42</td>\n",
              "      <td>2</td>\n",
              "      <td>0.00</td>\n",
              "      <td>1</td>\n",
              "      <td>1</td>\n",
              "      <td>1</td>\n",
              "      <td>101348.88</td>\n",
              "      <td>0</td>\n",
              "      <td>0</td>\n",
              "      <td>0</td>\n",
              "    </tr>\n",
              "    <tr>\n",
              "      <th>1</th>\n",
              "      <td>608</td>\n",
              "      <td>41</td>\n",
              "      <td>1</td>\n",
              "      <td>83807.86</td>\n",
              "      <td>1</td>\n",
              "      <td>0</td>\n",
              "      <td>1</td>\n",
              "      <td>112542.58</td>\n",
              "      <td>0</td>\n",
              "      <td>1</td>\n",
              "      <td>0</td>\n",
              "    </tr>\n",
              "    <tr>\n",
              "      <th>2</th>\n",
              "      <td>502</td>\n",
              "      <td>42</td>\n",
              "      <td>8</td>\n",
              "      <td>159660.80</td>\n",
              "      <td>3</td>\n",
              "      <td>1</td>\n",
              "      <td>0</td>\n",
              "      <td>113931.57</td>\n",
              "      <td>0</td>\n",
              "      <td>0</td>\n",
              "      <td>0</td>\n",
              "    </tr>\n",
              "    <tr>\n",
              "      <th>3</th>\n",
              "      <td>699</td>\n",
              "      <td>39</td>\n",
              "      <td>1</td>\n",
              "      <td>0.00</td>\n",
              "      <td>2</td>\n",
              "      <td>0</td>\n",
              "      <td>0</td>\n",
              "      <td>93826.63</td>\n",
              "      <td>0</td>\n",
              "      <td>0</td>\n",
              "      <td>0</td>\n",
              "    </tr>\n",
              "    <tr>\n",
              "      <th>4</th>\n",
              "      <td>850</td>\n",
              "      <td>43</td>\n",
              "      <td>2</td>\n",
              "      <td>125510.82</td>\n",
              "      <td>1</td>\n",
              "      <td>1</td>\n",
              "      <td>1</td>\n",
              "      <td>79084.10</td>\n",
              "      <td>0</td>\n",
              "      <td>1</td>\n",
              "      <td>0</td>\n",
              "    </tr>\n",
              "  </tbody>\n",
              "</table>\n",
              "</div>"
            ],
            "text/plain": [
              "   CreditScore  Age  Tenure    Balance  ...  EstimatedSalary  Germany  Spain  Male\n",
              "0          619   42       2       0.00  ...        101348.88        0      0     0\n",
              "1          608   41       1   83807.86  ...        112542.58        0      1     0\n",
              "2          502   42       8  159660.80  ...        113931.57        0      0     0\n",
              "3          699   39       1       0.00  ...         93826.63        0      0     0\n",
              "4          850   43       2  125510.82  ...         79084.10        0      1     0\n",
              "\n",
              "[5 rows x 11 columns]"
            ]
          },
          "metadata": {
            "tags": []
          },
          "execution_count": 8
        }
      ]
    },
    {
      "cell_type": "code",
      "metadata": {
        "id": "btJ75tp3L78R"
      },
      "source": [
        "from sklearn.model_selection import train_test_split\n",
        "X_train, X_test, y_train, y_test = train_test_split(X , y, test_size = 0.3, random_state = 10)"
      ],
      "execution_count": 9,
      "outputs": []
    },
    {
      "cell_type": "code",
      "metadata": {
        "id": "uE20qFm6L_cN"
      },
      "source": [
        "from sklearn.preprocessing import StandardScaler\n",
        "scaler = StandardScaler()\n",
        "X_train = scaler.fit_transform(X_train)\n",
        "X_test = scaler.transform(X_test)"
      ],
      "execution_count": 10,
      "outputs": []
    },
    {
      "cell_type": "code",
      "metadata": {
        "id": "ejRXiZOEMBam"
      },
      "source": [
        "import keras\n",
        "from keras.models import Sequential\n",
        "from keras.layers import Dense\n",
        "from keras.layers import Dropout"
      ],
      "execution_count": 11,
      "outputs": []
    },
    {
      "cell_type": "code",
      "metadata": {
        "id": "zY4pFxbCMDwP"
      },
      "source": [
        "model = Sequential()\n",
        "model.add(Dense(units = 10, kernel_initializer = 'he_normal', activation = 'relu', input_dim = 11))\n",
        "model.add(Dropout(0.3))\n",
        "model.add(Dense(units = 20, kernel_initializer= 'he_normal', activation= 'relu'))\n",
        "model.add(Dropout(0.4))\n",
        "model.add(Dense(units = 15, kernel_initializer= 'he_normal', activation= 'relu'))\n",
        "model.add(Dropout(0.2))\n",
        "model.add(Dense(units = 1, kernel_initializer= 'glorot_uniform', activation = 'sigmoid'))\n"
      ],
      "execution_count": 30,
      "outputs": []
    },
    {
      "cell_type": "code",
      "metadata": {
        "id": "NpaC_7-lNGkx"
      },
      "source": [
        "model.compile(optimizer = 'Adam', loss = 'binary_crossentropy', metrics = ['accuracy'])\n"
      ],
      "execution_count": 31,
      "outputs": []
    },
    {
      "cell_type": "code",
      "metadata": {
        "colab": {
          "base_uri": "https://localhost:8080/"
        },
        "id": "PEGdmOiMNkgr",
        "outputId": "72b26d7d-6752-4a69-83f0-2f9c6027d013"
      },
      "source": [
        "model_history = model.fit(X_train, y_train, validation_split = 0.33, batch_size =10, epochs = 100)"
      ],
      "execution_count": 32,
      "outputs": [
        {
          "output_type": "stream",
          "text": [
            "Epoch 1/100\n",
            "469/469 [==============================] - 3s 3ms/step - loss: 0.6054 - accuracy: 0.7336 - val_loss: 0.5062 - val_accuracy: 0.8035\n",
            "Epoch 2/100\n",
            "469/469 [==============================] - 1s 2ms/step - loss: 0.5192 - accuracy: 0.7842 - val_loss: 0.4738 - val_accuracy: 0.8035\n",
            "Epoch 3/100\n",
            "469/469 [==============================] - 1s 2ms/step - loss: 0.4879 - accuracy: 0.8047 - val_loss: 0.4696 - val_accuracy: 0.8035\n",
            "Epoch 4/100\n",
            "469/469 [==============================] - 1s 3ms/step - loss: 0.4866 - accuracy: 0.7953 - val_loss: 0.4570 - val_accuracy: 0.8035\n",
            "Epoch 5/100\n",
            "469/469 [==============================] - 1s 2ms/step - loss: 0.4686 - accuracy: 0.7970 - val_loss: 0.4505 - val_accuracy: 0.8035\n",
            "Epoch 6/100\n",
            "469/469 [==============================] - 1s 3ms/step - loss: 0.4747 - accuracy: 0.7903 - val_loss: 0.4496 - val_accuracy: 0.8035\n",
            "Epoch 7/100\n",
            "469/469 [==============================] - 1s 2ms/step - loss: 0.4512 - accuracy: 0.8002 - val_loss: 0.4421 - val_accuracy: 0.8035\n",
            "Epoch 8/100\n",
            "469/469 [==============================] - 1s 2ms/step - loss: 0.4669 - accuracy: 0.7892 - val_loss: 0.4402 - val_accuracy: 0.8035\n",
            "Epoch 9/100\n",
            "469/469 [==============================] - 1s 2ms/step - loss: 0.4559 - accuracy: 0.7952 - val_loss: 0.4362 - val_accuracy: 0.8035\n",
            "Epoch 10/100\n",
            "469/469 [==============================] - 1s 3ms/step - loss: 0.4349 - accuracy: 0.8002 - val_loss: 0.4389 - val_accuracy: 0.8035\n",
            "Epoch 11/100\n",
            "469/469 [==============================] - 1s 3ms/step - loss: 0.4523 - accuracy: 0.7906 - val_loss: 0.4331 - val_accuracy: 0.8035\n",
            "Epoch 12/100\n",
            "469/469 [==============================] - 1s 2ms/step - loss: 0.4324 - accuracy: 0.8009 - val_loss: 0.4364 - val_accuracy: 0.8035\n",
            "Epoch 13/100\n",
            "469/469 [==============================] - 1s 2ms/step - loss: 0.4476 - accuracy: 0.7916 - val_loss: 0.4373 - val_accuracy: 0.8035\n",
            "Epoch 14/100\n",
            "469/469 [==============================] - 1s 3ms/step - loss: 0.4299 - accuracy: 0.8046 - val_loss: 0.4366 - val_accuracy: 0.8035\n",
            "Epoch 15/100\n",
            "469/469 [==============================] - 1s 2ms/step - loss: 0.4366 - accuracy: 0.7971 - val_loss: 0.4262 - val_accuracy: 0.8035\n",
            "Epoch 16/100\n",
            "469/469 [==============================] - 1s 3ms/step - loss: 0.4141 - accuracy: 0.8049 - val_loss: 0.4299 - val_accuracy: 0.8044\n",
            "Epoch 17/100\n",
            "469/469 [==============================] - 1s 2ms/step - loss: 0.4303 - accuracy: 0.8012 - val_loss: 0.4339 - val_accuracy: 0.8187\n",
            "Epoch 18/100\n",
            "469/469 [==============================] - 1s 2ms/step - loss: 0.4244 - accuracy: 0.8131 - val_loss: 0.4231 - val_accuracy: 0.8235\n",
            "Epoch 19/100\n",
            "469/469 [==============================] - 1s 3ms/step - loss: 0.4263 - accuracy: 0.8100 - val_loss: 0.4161 - val_accuracy: 0.8252\n",
            "Epoch 20/100\n",
            "469/469 [==============================] - 1s 2ms/step - loss: 0.4143 - accuracy: 0.8104 - val_loss: 0.4120 - val_accuracy: 0.8252\n",
            "Epoch 21/100\n",
            "469/469 [==============================] - 1s 3ms/step - loss: 0.4138 - accuracy: 0.8115 - val_loss: 0.4138 - val_accuracy: 0.8226\n",
            "Epoch 22/100\n",
            "469/469 [==============================] - 1s 2ms/step - loss: 0.4228 - accuracy: 0.8024 - val_loss: 0.4166 - val_accuracy: 0.8243\n",
            "Epoch 23/100\n",
            "469/469 [==============================] - 1s 2ms/step - loss: 0.4204 - accuracy: 0.8151 - val_loss: 0.4184 - val_accuracy: 0.8260\n",
            "Epoch 24/100\n",
            "469/469 [==============================] - 1s 3ms/step - loss: 0.4149 - accuracy: 0.8172 - val_loss: 0.4128 - val_accuracy: 0.8273\n",
            "Epoch 25/100\n",
            "469/469 [==============================] - 1s 2ms/step - loss: 0.4399 - accuracy: 0.7946 - val_loss: 0.4058 - val_accuracy: 0.8248\n",
            "Epoch 26/100\n",
            "469/469 [==============================] - 1s 3ms/step - loss: 0.4252 - accuracy: 0.8084 - val_loss: 0.4077 - val_accuracy: 0.8256\n",
            "Epoch 27/100\n",
            "469/469 [==============================] - 1s 3ms/step - loss: 0.4186 - accuracy: 0.8138 - val_loss: 0.4047 - val_accuracy: 0.8269\n",
            "Epoch 28/100\n",
            "469/469 [==============================] - 1s 2ms/step - loss: 0.4205 - accuracy: 0.8145 - val_loss: 0.4096 - val_accuracy: 0.8304\n",
            "Epoch 29/100\n",
            "469/469 [==============================] - 1s 3ms/step - loss: 0.3978 - accuracy: 0.8251 - val_loss: 0.4211 - val_accuracy: 0.8351\n",
            "Epoch 30/100\n",
            "469/469 [==============================] - 1s 3ms/step - loss: 0.4184 - accuracy: 0.8203 - val_loss: 0.4081 - val_accuracy: 0.8286\n",
            "Epoch 31/100\n",
            "469/469 [==============================] - 1s 3ms/step - loss: 0.4049 - accuracy: 0.8231 - val_loss: 0.4222 - val_accuracy: 0.8373\n",
            "Epoch 32/100\n",
            "469/469 [==============================] - 1s 3ms/step - loss: 0.3980 - accuracy: 0.8198 - val_loss: 0.4128 - val_accuracy: 0.8373\n",
            "Epoch 33/100\n",
            "469/469 [==============================] - 1s 3ms/step - loss: 0.3956 - accuracy: 0.8294 - val_loss: 0.4201 - val_accuracy: 0.8364\n",
            "Epoch 34/100\n",
            "469/469 [==============================] - 1s 3ms/step - loss: 0.4168 - accuracy: 0.8158 - val_loss: 0.4053 - val_accuracy: 0.8416\n",
            "Epoch 35/100\n",
            "469/469 [==============================] - 1s 3ms/step - loss: 0.4034 - accuracy: 0.8132 - val_loss: 0.4109 - val_accuracy: 0.8421\n",
            "Epoch 36/100\n",
            "469/469 [==============================] - 1s 2ms/step - loss: 0.4116 - accuracy: 0.8168 - val_loss: 0.3990 - val_accuracy: 0.8412\n",
            "Epoch 37/100\n",
            "469/469 [==============================] - 1s 2ms/step - loss: 0.3952 - accuracy: 0.8275 - val_loss: 0.4086 - val_accuracy: 0.8442\n",
            "Epoch 38/100\n",
            "469/469 [==============================] - 1s 2ms/step - loss: 0.4038 - accuracy: 0.8266 - val_loss: 0.4126 - val_accuracy: 0.8421\n",
            "Epoch 39/100\n",
            "469/469 [==============================] - 1s 2ms/step - loss: 0.4103 - accuracy: 0.8241 - val_loss: 0.4070 - val_accuracy: 0.8395\n",
            "Epoch 40/100\n",
            "469/469 [==============================] - 1s 3ms/step - loss: 0.4162 - accuracy: 0.8194 - val_loss: 0.3982 - val_accuracy: 0.8434\n",
            "Epoch 41/100\n",
            "469/469 [==============================] - 1s 3ms/step - loss: 0.4090 - accuracy: 0.8226 - val_loss: 0.4024 - val_accuracy: 0.8421\n",
            "Epoch 42/100\n",
            "469/469 [==============================] - 1s 3ms/step - loss: 0.4073 - accuracy: 0.8272 - val_loss: 0.4087 - val_accuracy: 0.8386\n",
            "Epoch 43/100\n",
            "469/469 [==============================] - 1s 3ms/step - loss: 0.3929 - accuracy: 0.8368 - val_loss: 0.4006 - val_accuracy: 0.8416\n",
            "Epoch 44/100\n",
            "469/469 [==============================] - 1s 2ms/step - loss: 0.3922 - accuracy: 0.8372 - val_loss: 0.4020 - val_accuracy: 0.8369\n",
            "Epoch 45/100\n",
            "469/469 [==============================] - 1s 3ms/step - loss: 0.4106 - accuracy: 0.8291 - val_loss: 0.4010 - val_accuracy: 0.8373\n",
            "Epoch 46/100\n",
            "469/469 [==============================] - 1s 2ms/step - loss: 0.3962 - accuracy: 0.8352 - val_loss: 0.4091 - val_accuracy: 0.8369\n",
            "Epoch 47/100\n",
            "469/469 [==============================] - 1s 2ms/step - loss: 0.3836 - accuracy: 0.8435 - val_loss: 0.4034 - val_accuracy: 0.8369\n",
            "Epoch 48/100\n",
            "469/469 [==============================] - 1s 2ms/step - loss: 0.3980 - accuracy: 0.8332 - val_loss: 0.4107 - val_accuracy: 0.8373\n",
            "Epoch 49/100\n",
            "469/469 [==============================] - 1s 2ms/step - loss: 0.3922 - accuracy: 0.8353 - val_loss: 0.4013 - val_accuracy: 0.8395\n",
            "Epoch 50/100\n",
            "469/469 [==============================] - 1s 2ms/step - loss: 0.4111 - accuracy: 0.8252 - val_loss: 0.4040 - val_accuracy: 0.8377\n",
            "Epoch 51/100\n",
            "469/469 [==============================] - 1s 2ms/step - loss: 0.3941 - accuracy: 0.8303 - val_loss: 0.4168 - val_accuracy: 0.8416\n",
            "Epoch 52/100\n",
            "469/469 [==============================] - 1s 2ms/step - loss: 0.4020 - accuracy: 0.8280 - val_loss: 0.3930 - val_accuracy: 0.8408\n",
            "Epoch 53/100\n",
            "469/469 [==============================] - 1s 2ms/step - loss: 0.3955 - accuracy: 0.8296 - val_loss: 0.3977 - val_accuracy: 0.8377\n",
            "Epoch 54/100\n",
            "469/469 [==============================] - 1s 2ms/step - loss: 0.3820 - accuracy: 0.8331 - val_loss: 0.4017 - val_accuracy: 0.8377\n",
            "Epoch 55/100\n",
            "469/469 [==============================] - 1s 3ms/step - loss: 0.4005 - accuracy: 0.8282 - val_loss: 0.4017 - val_accuracy: 0.8369\n",
            "Epoch 56/100\n",
            "469/469 [==============================] - 1s 2ms/step - loss: 0.4071 - accuracy: 0.8323 - val_loss: 0.4005 - val_accuracy: 0.8377\n",
            "Epoch 57/100\n",
            "469/469 [==============================] - 1s 3ms/step - loss: 0.3869 - accuracy: 0.8415 - val_loss: 0.4097 - val_accuracy: 0.8395\n",
            "Epoch 58/100\n",
            "469/469 [==============================] - 1s 3ms/step - loss: 0.3945 - accuracy: 0.8332 - val_loss: 0.4002 - val_accuracy: 0.8377\n",
            "Epoch 59/100\n",
            "469/469 [==============================] - 1s 3ms/step - loss: 0.4095 - accuracy: 0.8264 - val_loss: 0.3971 - val_accuracy: 0.8373\n",
            "Epoch 60/100\n",
            "469/469 [==============================] - 1s 2ms/step - loss: 0.3995 - accuracy: 0.8366 - val_loss: 0.3986 - val_accuracy: 0.8438\n",
            "Epoch 61/100\n",
            "469/469 [==============================] - 1s 2ms/step - loss: 0.3930 - accuracy: 0.8406 - val_loss: 0.4069 - val_accuracy: 0.8412\n",
            "Epoch 62/100\n",
            "469/469 [==============================] - 1s 2ms/step - loss: 0.4041 - accuracy: 0.8305 - val_loss: 0.3965 - val_accuracy: 0.8399\n",
            "Epoch 63/100\n",
            "469/469 [==============================] - 1s 2ms/step - loss: 0.4164 - accuracy: 0.8274 - val_loss: 0.3968 - val_accuracy: 0.8429\n",
            "Epoch 64/100\n",
            "469/469 [==============================] - 1s 2ms/step - loss: 0.4238 - accuracy: 0.8253 - val_loss: 0.3937 - val_accuracy: 0.8412\n",
            "Epoch 65/100\n",
            "469/469 [==============================] - 1s 2ms/step - loss: 0.4055 - accuracy: 0.8303 - val_loss: 0.4001 - val_accuracy: 0.8408\n",
            "Epoch 66/100\n",
            "469/469 [==============================] - 1s 3ms/step - loss: 0.4125 - accuracy: 0.8300 - val_loss: 0.4058 - val_accuracy: 0.8382\n",
            "Epoch 67/100\n",
            "469/469 [==============================] - 1s 3ms/step - loss: 0.3988 - accuracy: 0.8317 - val_loss: 0.3971 - val_accuracy: 0.8403\n",
            "Epoch 68/100\n",
            "469/469 [==============================] - 1s 2ms/step - loss: 0.3991 - accuracy: 0.8346 - val_loss: 0.3954 - val_accuracy: 0.8390\n",
            "Epoch 69/100\n",
            "469/469 [==============================] - 1s 3ms/step - loss: 0.3909 - accuracy: 0.8359 - val_loss: 0.4043 - val_accuracy: 0.8369\n",
            "Epoch 70/100\n",
            "469/469 [==============================] - 1s 3ms/step - loss: 0.3818 - accuracy: 0.8364 - val_loss: 0.4135 - val_accuracy: 0.8382\n",
            "Epoch 71/100\n",
            "469/469 [==============================] - 1s 3ms/step - loss: 0.3942 - accuracy: 0.8296 - val_loss: 0.4057 - val_accuracy: 0.8395\n",
            "Epoch 72/100\n",
            "469/469 [==============================] - 1s 2ms/step - loss: 0.4036 - accuracy: 0.8272 - val_loss: 0.4049 - val_accuracy: 0.8408\n",
            "Epoch 73/100\n",
            "469/469 [==============================] - 1s 2ms/step - loss: 0.3819 - accuracy: 0.8404 - val_loss: 0.4012 - val_accuracy: 0.8395\n",
            "Epoch 74/100\n",
            "469/469 [==============================] - 1s 2ms/step - loss: 0.4146 - accuracy: 0.8179 - val_loss: 0.3931 - val_accuracy: 0.8425\n",
            "Epoch 75/100\n",
            "469/469 [==============================] - 1s 2ms/step - loss: 0.3978 - accuracy: 0.8301 - val_loss: 0.3967 - val_accuracy: 0.8386\n",
            "Epoch 76/100\n",
            "469/469 [==============================] - 1s 2ms/step - loss: 0.3992 - accuracy: 0.8333 - val_loss: 0.4000 - val_accuracy: 0.8399\n",
            "Epoch 77/100\n",
            "469/469 [==============================] - 1s 2ms/step - loss: 0.3940 - accuracy: 0.8373 - val_loss: 0.3936 - val_accuracy: 0.8399\n",
            "Epoch 78/100\n",
            "469/469 [==============================] - 1s 2ms/step - loss: 0.3938 - accuracy: 0.8398 - val_loss: 0.3949 - val_accuracy: 0.8377\n",
            "Epoch 79/100\n",
            "469/469 [==============================] - 1s 2ms/step - loss: 0.3938 - accuracy: 0.8425 - val_loss: 0.3938 - val_accuracy: 0.8395\n",
            "Epoch 80/100\n",
            "469/469 [==============================] - 1s 2ms/step - loss: 0.3884 - accuracy: 0.8409 - val_loss: 0.3969 - val_accuracy: 0.8408\n",
            "Epoch 81/100\n",
            "469/469 [==============================] - 1s 3ms/step - loss: 0.3773 - accuracy: 0.8517 - val_loss: 0.3995 - val_accuracy: 0.8416\n",
            "Epoch 82/100\n",
            "469/469 [==============================] - 1s 2ms/step - loss: 0.3840 - accuracy: 0.8370 - val_loss: 0.4032 - val_accuracy: 0.8425\n",
            "Epoch 83/100\n",
            "469/469 [==============================] - 1s 2ms/step - loss: 0.3993 - accuracy: 0.8364 - val_loss: 0.3936 - val_accuracy: 0.8403\n",
            "Epoch 84/100\n",
            "469/469 [==============================] - 1s 2ms/step - loss: 0.3907 - accuracy: 0.8368 - val_loss: 0.3955 - val_accuracy: 0.8390\n",
            "Epoch 85/100\n",
            "469/469 [==============================] - 1s 2ms/step - loss: 0.3885 - accuracy: 0.8421 - val_loss: 0.3917 - val_accuracy: 0.8403\n",
            "Epoch 86/100\n",
            "469/469 [==============================] - 1s 2ms/step - loss: 0.4038 - accuracy: 0.8339 - val_loss: 0.3912 - val_accuracy: 0.8373\n",
            "Epoch 87/100\n",
            "469/469 [==============================] - 1s 2ms/step - loss: 0.4023 - accuracy: 0.8335 - val_loss: 0.3826 - val_accuracy: 0.8416\n",
            "Epoch 88/100\n",
            "469/469 [==============================] - 1s 2ms/step - loss: 0.3880 - accuracy: 0.8383 - val_loss: 0.3887 - val_accuracy: 0.8412\n",
            "Epoch 89/100\n",
            "469/469 [==============================] - 1s 2ms/step - loss: 0.3859 - accuracy: 0.8356 - val_loss: 0.4017 - val_accuracy: 0.8377\n",
            "Epoch 90/100\n",
            "469/469 [==============================] - 1s 3ms/step - loss: 0.3932 - accuracy: 0.8340 - val_loss: 0.3960 - val_accuracy: 0.8399\n",
            "Epoch 91/100\n",
            "469/469 [==============================] - 1s 2ms/step - loss: 0.4111 - accuracy: 0.8336 - val_loss: 0.3913 - val_accuracy: 0.8377\n",
            "Epoch 92/100\n",
            "469/469 [==============================] - 1s 2ms/step - loss: 0.3993 - accuracy: 0.8400 - val_loss: 0.3881 - val_accuracy: 0.8373\n",
            "Epoch 93/100\n",
            "469/469 [==============================] - 1s 3ms/step - loss: 0.4038 - accuracy: 0.8388 - val_loss: 0.3945 - val_accuracy: 0.8386\n",
            "Epoch 94/100\n",
            "469/469 [==============================] - 2s 3ms/step - loss: 0.4014 - accuracy: 0.8319 - val_loss: 0.3895 - val_accuracy: 0.8429\n",
            "Epoch 95/100\n",
            "469/469 [==============================] - 1s 2ms/step - loss: 0.3965 - accuracy: 0.8397 - val_loss: 0.3937 - val_accuracy: 0.8403\n",
            "Epoch 96/100\n",
            "469/469 [==============================] - 1s 3ms/step - loss: 0.3944 - accuracy: 0.8316 - val_loss: 0.3903 - val_accuracy: 0.8356\n",
            "Epoch 97/100\n",
            "469/469 [==============================] - 1s 3ms/step - loss: 0.3931 - accuracy: 0.8355 - val_loss: 0.3965 - val_accuracy: 0.8356\n",
            "Epoch 98/100\n",
            "469/469 [==============================] - 1s 2ms/step - loss: 0.4175 - accuracy: 0.8240 - val_loss: 0.3909 - val_accuracy: 0.8390\n",
            "Epoch 99/100\n",
            "469/469 [==============================] - 1s 3ms/step - loss: 0.3993 - accuracy: 0.8285 - val_loss: 0.3865 - val_accuracy: 0.8382\n",
            "Epoch 100/100\n",
            "469/469 [==============================] - 1s 2ms/step - loss: 0.3871 - accuracy: 0.8423 - val_loss: 0.4002 - val_accuracy: 0.8395\n"
          ],
          "name": "stdout"
        }
      ]
    },
    {
      "cell_type": "code",
      "metadata": {
        "id": "AVK28le6N1IM"
      },
      "source": [
        "y_pred = model.predict(X_test)\n",
        "y_pred = y_pred>0.5\n"
      ],
      "execution_count": 33,
      "outputs": []
    },
    {
      "cell_type": "code",
      "metadata": {
        "colab": {
          "base_uri": "https://localhost:8080/"
        },
        "id": "X8ZiozZ6Os51",
        "outputId": "62787e0c-f324-4630-a38f-12119d98ceb8"
      },
      "source": [
        "from sklearn.metrics import confusion_matrix\n",
        "cm = confusion_matrix(y_test, y_pred)\n",
        "cm"
      ],
      "execution_count": 34,
      "outputs": [
        {
          "output_type": "execute_result",
          "data": {
            "text/plain": [
              "array([[2257,  123],\n",
              "       [ 370,  250]])"
            ]
          },
          "metadata": {
            "tags": []
          },
          "execution_count": 34
        }
      ]
    },
    {
      "cell_type": "code",
      "metadata": {
        "colab": {
          "base_uri": "https://localhost:8080/"
        },
        "id": "sLgM55u6O3fe",
        "outputId": "522d62c9-fc52-4295-d9a4-5a0249747f6a"
      },
      "source": [
        "from sklearn.metrics import accuracy_score\n",
        "score = accuracy_score(y_test,y_pred)\n",
        "score"
      ],
      "execution_count": 35,
      "outputs": [
        {
          "output_type": "execute_result",
          "data": {
            "text/plain": [
              "0.8356666666666667"
            ]
          },
          "metadata": {
            "tags": []
          },
          "execution_count": 35
        }
      ]
    },
    {
      "cell_type": "code",
      "metadata": {
        "id": "ubcur3ckPJcr"
      },
      "source": [
        ""
      ],
      "execution_count": null,
      "outputs": []
    }
  ]
}